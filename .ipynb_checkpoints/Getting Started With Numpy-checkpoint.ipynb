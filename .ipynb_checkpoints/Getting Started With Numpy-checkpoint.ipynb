{
 "cells": [
  {
   "attachments": {},
   "cell_type": "markdown",
   "metadata": {},
   "source": [
    "![title](img/intro.png)"
   ]
  },
  {
   "cell_type": "markdown",
   "metadata": {},
   "source": [
    "   #                    <center>  <font color='red'>            Getting Started With NumPy :</font></center>"
   ]
  },
  {
   "cell_type": "markdown",
   "metadata": {},
   "source": [
    "## What is NumPy ? : /"
   ]
  },
  {
   "attachments": {},
   "cell_type": "markdown",
   "metadata": {},
   "source": [
    "NumPy aka Numerical Python is a package for the scientific computing in python programing language. It's famous for multi-dimensional arrays and matrices. It also eases our lives when it comes to mathematical computation. \n",
    "\n",
    "*You know what's the best part ?*\n",
    "\n",
    "**It is open source**\n",
    "\n",
    "## But we already have list and math library , then why numpy?\n",
    "\n",
    "![title](img/why.png)\n"
   ]
  },
  {
   "cell_type": "markdown",
   "metadata": {},
   "source": [
    "Below reasons are more than enough to convince you NumPy is better:\n",
    "\n",
    "1. Vectorization\n",
    "\n",
    "2. Random Number Generation\n",
    "\n",
    "3. Broadcasting\n",
    "\n",
    "4. Fourier Transform , Linear Algebra\n",
    "\n",
    "5. Speedy computation"
   ]
  },
  {
   "cell_type": "markdown",
   "metadata": {},
   "source": [
    "<font color='green'>"
   ]
  },
  {
   "attachments": {},
   "cell_type": "markdown",
   "metadata": {},
   "source": [
    "![title](img/pika.png)"
   ]
  },
  {
   "cell_type": "markdown",
   "metadata": {},
   "source": [
    "# NumPy + Pandas -> Machine Learning/Data Science "
   ]
  },
  {
   "attachments": {},
   "cell_type": "markdown",
   "metadata": {},
   "source": [
    "![title](img/talk.png)"
   ]
  },
  {
   "cell_type": "code",
   "execution_count": null,
   "metadata": {},
   "outputs": [],
   "source": []
  },
  {
   "cell_type": "markdown",
   "metadata": {},
   "source": [
    "You need to import NumPy before using it. And even before that you need to install it (If not using Anaconda)."
   ]
  },
  {
   "cell_type": "markdown",
   "metadata": {},
   "source": [
    "## Installing NumPy:"
   ]
  },
  {
   "cell_type": "code",
   "execution_count": 2,
   "metadata": {},
   "outputs": [
    {
     "name": "stdout",
     "output_type": "stream",
     "text": [
      "Requirement already satisfied: numpy in c:\\users\\lenovo\\appdata\\local\\programs\\python\\python36\\lib\\site-packages (1.17.2)\n"
     ]
    }
   ],
   "source": [
    "! pip install numpy"
   ]
  },
  {
   "cell_type": "markdown",
   "metadata": {},
   "source": [
    "## Importing Numpy:\n",
    " "
   ]
  },
  {
   "cell_type": "code",
   "execution_count": 3,
   "metadata": {},
   "outputs": [],
   "source": [
    "#import numpy\n",
    "import numpy as np"
   ]
  },
  {
   "cell_type": "markdown",
   "metadata": {},
   "source": [
    "## NumPy Arrays:"
   ]
  },
  {
   "cell_type": "markdown",
   "metadata": {},
   "source": [
    "Arrays are nothing but a table of elements of same data types.\n",
    "\n",
    "No of dimensions = **Rank**\n",
    "\n",
    "Shape of the array = **Shape**\n",
    " "
   ]
  },
  {
   "cell_type": "markdown",
   "metadata": {},
   "source": [
    "## Creating NumPy Array:\n",
    "\n",
    "1. Using np.array()"
   ]
  },
  {
   "cell_type": "code",
   "execution_count": 9,
   "metadata": {},
   "outputs": [
    {
     "name": "stdout",
     "output_type": "stream",
     "text": [
      "[[ 2  3]\n",
      " [65 78]\n",
      " [90 57]]\n"
     ]
    },
    {
     "data": {
      "text/plain": [
       "numpy.ndarray"
      ]
     },
     "execution_count": 9,
     "metadata": {},
     "output_type": "execute_result"
    }
   ],
   "source": [
    "# without using list\n",
    "\n",
    "#  arr1=np.array([1,23,34,35])\n",
    "# using list\n",
    "\n",
    "\n",
    "li=[[2,3],[65,78],[90,57]]\n",
    "arr2=np.array(li)\n",
    "print(arr2)\n",
    "type(arr2)"
   ]
  },
  {
   "cell_type": "code",
   "execution_count": 13,
   "metadata": {},
   "outputs": [
    {
     "name": "stdout",
     "output_type": "stream",
     "text": [
      "<class 'numpy.ndarray'>\n",
      "(3, 2)\n",
      "2\n"
     ]
    }
   ],
   "source": [
    "# checking the type of Numpy array\n",
    "\n",
    "print(type(arr1))\n",
    "\n",
    "# checking shape\n",
    "\n",
    "\n",
    "# print(arr1.shape) \n",
    "# print(arr1.ndim) #one dimensional\n",
    "\n",
    "print(arr2.shape)\n",
    "print(arr2.ndim) # one dimensional"
   ]
  },
  {
   "cell_type": "markdown",
   "metadata": {},
   "source": [
    "# Multidimensional Array:"
   ]
  },
  {
   "cell_type": "code",
   "execution_count": 14,
   "metadata": {},
   "outputs": [
    {
     "name": "stdout",
     "output_type": "stream",
     "text": [
      "[[2 3]\n",
      " [4 6]\n",
      " [9 4]\n",
      " [7 8]]\n",
      "Dimension:  2\n",
      "Shape:  (4, 2)\n"
     ]
    }
   ],
   "source": [
    "multi_arr=np.array([[2,3],[4,6],[9,4],[7,8]])\n",
    "print(multi_arr)\n",
    "print(\"Dimension: \",multi_arr.ndim)\n",
    "print(\"Shape: \",multi_arr.shape)\n"
   ]
  },
  {
   "cell_type": "markdown",
   "metadata": {},
   "source": [
    "# Exploring some optional arguments:"
   ]
  },
  {
   "cell_type": "code",
   "execution_count": 19,
   "metadata": {},
   "outputs": [
    {
     "name": "stdout",
     "output_type": "stream",
     "text": [
      "[[[[2 3]\n",
      "   [6 6]\n",
      "   [7 9]\n",
      "   [7 4]]]]\n",
      "Shape:  (1, 1, 4, 2)\n"
     ]
    },
    {
     "data": {
      "text/plain": [
       "4"
      ]
     },
     "execution_count": 19,
     "metadata": {},
     "output_type": "execute_result"
    }
   ],
   "source": [
    "#ndmin\n",
    "\n",
    "arr_ndim=np.array([[2,3],[6,6],[7,9],[7,4]],ndmin=4)\n",
    "print(arr_ndim)\n",
    "print(\"Shape: \",arr_ndim.shape)\n",
    "arr_ndim.ndim"
   ]
  },
  {
   "cell_type": "code",
   "execution_count": 21,
   "metadata": {},
   "outputs": [
    {
     "data": {
      "text/plain": [
       "array([ 1., 23.,  4., 55.])"
      ]
     },
     "execution_count": 21,
     "metadata": {},
     "output_type": "execute_result"
    }
   ],
   "source": [
    "#dtype\n",
    "\n",
    "np.array([1,23,4,55],dtype='float')"
   ]
  },
  {
   "cell_type": "markdown",
   "metadata": {},
   "source": [
    "After creating a one dimensional array what if we want to convert it into a two dimensional array?"
   ]
  },
  {
   "cell_type": "code",
   "execution_count": 25,
   "metadata": {},
   "outputs": [
    {
     "name": "stdout",
     "output_type": "stream",
     "text": [
      "[[2 3]\n",
      " [4 6]\n",
      " [9 4]\n",
      " [7 8]]\n"
     ]
    }
   ],
   "source": [
    "# reshape\n",
    "#print(multi_arr.reshape(5,2))\n",
    "\n",
    "#print(multi_arr.reshape(2,4))\n",
    "\n",
    "#arr.shape=()\n",
    "\n",
    "multi_arr.shape=(4,2)\n",
    "print(multi_arr)"
   ]
  },
  {
   "cell_type": "markdown",
   "metadata": {},
   "source": [
    "# Generating Random elements of the array:\n",
    "\n",
    "\n",
    "1. randn : values filled from standard normal distribution\n",
    "2. randint :random integers\n",
    "3. rand : random values (can be float too)"
   ]
  },
  {
   "cell_type": "code",
   "execution_count": 29,
   "metadata": {},
   "outputs": [
    {
     "data": {
      "text/plain": [
       "array([[ 0.51686669, -0.14117976],\n",
       "       [ 0.53915612,  1.36186494],\n",
       "       [ 1.2454157 , -0.54624141],\n",
       "       [-0.75252289,  0.19050619]])"
      ]
     },
     "execution_count": 29,
     "metadata": {},
     "output_type": "execute_result"
    }
   ],
   "source": [
    "# randn :\n",
    "# randn=np.random.randn()\n",
    "#np.random.randn() \n",
    "#randn=np.random.randn(4) # 4 values\n",
    "randn=np.random.randn(4,2) # 4 X 2 matrix\n",
    "randn\n"
   ]
  },
  {
   "cell_type": "code",
   "execution_count": 36,
   "metadata": {},
   "outputs": [
    {
     "data": {
      "text/plain": [
       "array([2, 4, 6, 3], dtype=int64)"
      ]
     },
     "execution_count": 36,
     "metadata": {},
     "output_type": "execute_result"
    }
   ],
   "source": [
    "# randint :\n",
    "\n",
    "#randint=np.random.randint(50) # values less than 10\n",
    "\n",
    "# randint=np.random.randint(50,100) # value between 15 and 40\n",
    "#randint=np.random.randint(10,100,size=(2,2)) #  2 X 2 array\n",
    "\n",
    "randint=np.random.randint(9,size=4,dtype='int64') # can also specify dtype\n",
    "\n",
    "randint"
   ]
  },
  {
   "cell_type": "code",
   "execution_count": 40,
   "metadata": {},
   "outputs": [
    {
     "data": {
      "text/plain": [
       "array([[0.49785371, 0.20441029],\n",
       "       [0.90015006, 0.03146911],\n",
       "       [0.42255195, 0.78206428],\n",
       "       [0.52152851, 0.49391401]])"
      ]
     },
     "execution_count": 40,
     "metadata": {},
     "output_type": "execute_result"
    }
   ],
   "source": [
    "# rand :\n",
    "\n",
    "#rand=np.random.rand() # one random value\n",
    "#rand=np.random.rand(4) # 4 values\n",
    "rand=np.random.rand(4,2) # 4 X 2 matrix\n",
    "rand"
   ]
  },
  {
   "cell_type": "markdown",
   "metadata": {},
   "source": [
    "# empty() : \n",
    "\n",
    "#### When we don't have values to initialize our array, we use empty() function to create an array of mentioned shape but, since we didn't have any values to initialize the array, it is initialized with random values."
   ]
  },
  {
   "cell_type": "code",
   "execution_count": 41,
   "metadata": {},
   "outputs": [
    {
     "data": {
      "text/plain": [
       "array([[1.20829525e-311, 6.27463370e-322, 0.00000000e+000,\n",
       "        0.00000000e+000, 6.23058367e-307],\n",
       "       [5.30276956e+180, 3.31033942e-033, 6.97800826e-076,\n",
       "        4.06333706e-086, 3.35608994e-143],\n",
       "       [6.01433264e+175, 6.93885958e+218, 5.56218858e+180,\n",
       "        3.94356143e+180, 1.22545362e-046],\n",
       "       [2.34393794e-056, 1.36834251e-071, 4.69625036e-033,\n",
       "        7.11768018e-144, 1.50008929e+248]])"
      ]
     },
     "execution_count": 41,
     "metadata": {},
     "output_type": "execute_result"
    }
   ],
   "source": [
    "np.empty((4,5)) # shape = (4,5)"
   ]
  },
  {
   "cell_type": "markdown",
   "metadata": {},
   "source": [
    "# arange():\n",
    "\n",
    "Counting function.The arange(start,stop,step) function returns an array with sequence of numbers between the mentioned intervals."
   ]
  },
  {
   "cell_type": "code",
   "execution_count": 45,
   "metadata": {},
   "outputs": [
    {
     "data": {
      "text/plain": [
       "array([ 1,  3,  5,  7,  9, 11, 13, 15, 17, 19, 21, 23, 25, 27, 29, 31, 33,\n",
       "       35, 37, 39, 41, 43, 45, 47, 49])"
      ]
     },
     "execution_count": 45,
     "metadata": {},
     "output_type": "execute_result"
    }
   ],
   "source": [
    "#arange=np.arange(10)\n",
    "#arange=np.arange(1,50) # 1 to 50\n",
    "arange=np.arange(1,50,2) # 1 to 50 ,step=2\n",
    "arange"
   ]
  },
  {
   "cell_type": "markdown",
   "metadata": {},
   "source": [
    "# Printing reverse counting:\n"
   ]
  },
  {
   "cell_type": "code",
   "execution_count": 47,
   "metadata": {},
   "outputs": [
    {
     "data": {
      "text/plain": [
       "array([50, 49, 48, 47, 46, 45, 44, 43, 42, 41, 40, 39, 38, 37, 36, 35, 34,\n",
       "       33, 32, 31, 30, 29, 28, 27, 26, 25, 24, 23, 22, 21, 20, 19, 18, 17,\n",
       "       16, 15, 14, 13, 12, 11, 10,  9,  8,  7,  6,  5,  4,  3,  2,  1])"
      ]
     },
     "execution_count": 47,
     "metadata": {},
     "output_type": "execute_result"
    }
   ],
   "source": [
    "arange=np.arange(50,0,-1)\n",
    "arange"
   ]
  },
  {
   "cell_type": "markdown",
   "metadata": {},
   "source": [
    "# linspace():\n",
    "\n",
    "Works similar to arange() but differs in spacing/steeping.\n",
    "\n",
    "arange() was working great but what if we want elements of the array spaced linearly.\n",
    "\n",
    "linspace() will give us linearly spaced elements by figuring out the spacing on it's own."
   ]
  },
  {
   "cell_type": "code",
   "execution_count": 49,
   "metadata": {},
   "outputs": [
    {
     "data": {
      "text/plain": [
       "array([ 1.  ,  5.75, 10.5 , 15.25, 20.  ])"
      ]
     },
     "execution_count": 49,
     "metadata": {},
     "output_type": "execute_result"
    }
   ],
   "source": [
    "#np.linspace(1,20)\n",
    "np.linspace(1,20,num=5) # linearly spaced 5 elements"
   ]
  },
  {
   "cell_type": "code",
   "execution_count": null,
   "metadata": {},
   "outputs": [],
   "source": []
  },
  {
   "cell_type": "markdown",
   "metadata": {},
   "source": [
    "# Special functions : ones(),zeros(),eye():"
   ]
  },
  {
   "cell_type": "code",
   "execution_count": 52,
   "metadata": {},
   "outputs": [
    {
     "data": {
      "text/plain": [
       "array([[1., 0., 0., 0.],\n",
       "       [0., 1., 0., 0.],\n",
       "       [0., 0., 1., 0.]])"
      ]
     },
     "execution_count": 52,
     "metadata": {},
     "output_type": "execute_result"
    }
   ],
   "source": [
    "#np.ones((2,3))\n",
    "#np.zeros((3,5))\n",
    "#np.eye(3,4)"
   ]
  },
  {
   "cell_type": "code",
   "execution_count": null,
   "metadata": {},
   "outputs": [],
   "source": []
  },
  {
   "cell_type": "markdown",
   "metadata": {},
   "source": [
    "# unique() and count():\n",
    "\n",
    "\n",
    "We can get the count of unique items in an array by using unique() function. In an array consisting duplicate values, unique function will return all the unique elements. To get the number of times duplicate elements have occured we can add optional parameter return_counts=True within unique() function.\n",
    "\n",
    "The count() function when used separately gives us an array telling how many times a substring has occured. For example, if we have an array of strings and we want to count how many times a substring (say aa) is present in that array, we can use the count() function for this."
   ]
  },
  {
   "cell_type": "code",
   "execution_count": 55,
   "metadata": {},
   "outputs": [
    {
     "name": "stdout",
     "output_type": "stream",
     "text": [
      "Count of aa is [2 2]\n"
     ]
    }
   ],
   "source": [
    "# arr = np.random.randint(10,100,size=(10))\n",
    "# unique_ele, count_duplicates = np.unique(arr,return_counts=True)\n",
    "# print('The original array was',arr)\n",
    "# print('The unique elements are',unique_ele)\n",
    "# print('The count of each duplicate element=',count_duplicates)\n",
    "\n",
    "\n",
    "# using count()\n",
    "string = np.array(['abraabracdddacaddabra','brrdatatddddaa'])\n",
    "# aa has occured once in the first string and twice in the second string count\n",
    "count = np.char.count(string,'dd') \n",
    "print(\"Count of aa is\", str(count))"
   ]
  },
  {
   "cell_type": "code",
   "execution_count": null,
   "metadata": {},
   "outputs": [],
   "source": []
  },
  {
   "cell_type": "markdown",
   "metadata": {},
   "source": [
    "# Handling Missing Values:\n",
    "\n",
    "When we don't have any value to enter at any index of array, we can use NaN or inf to fill the vacant place"
   ]
  },
  {
   "cell_type": "code",
   "execution_count": null,
   "metadata": {},
   "outputs": [],
   "source": [
    "np.nan\n",
    "np.inf"
   ]
  },
  {
   "cell_type": "code",
   "execution_count": null,
   "metadata": {},
   "outputs": [],
   "source": []
  },
  {
   "cell_type": "code",
   "execution_count": 57,
   "metadata": {},
   "outputs": [
    {
     "data": {
      "text/plain": [
       "array([ 1.,  2., nan,  5.,  6.,  8., inf])"
      ]
     },
     "execution_count": 57,
     "metadata": {},
     "output_type": "execute_result"
    }
   ],
   "source": [
    "arr1 = np.array([1,2,np.nan,5,6,8,np.inf])\n",
    "arr1"
   ]
  },
  {
   "cell_type": "code",
   "execution_count": null,
   "metadata": {},
   "outputs": [],
   "source": []
  },
  {
   "cell_type": "markdown",
   "metadata": {},
   "source": [
    "# Using Mathematical functions:"
   ]
  },
  {
   "cell_type": "markdown",
   "metadata": {},
   "source": [
    "1. mean \n",
    "2. max\n",
    "3. min\n",
    "4. sin\n",
    "5. cos"
   ]
  },
  {
   "cell_type": "code",
   "execution_count": 62,
   "metadata": {},
   "outputs": [
    {
     "name": "stdout",
     "output_type": "stream",
     "text": [
      "[50 55 78 12 92 14 17 78 75  1]\n",
      "Max value 92\n",
      "Min value 1\n",
      "Mean value 47.2\n"
     ]
    },
    {
     "data": {
      "text/plain": [
       "array([-0.7568025 , -0.95462777, -0.99186876, -0.83776948, -0.49964188,\n",
       "       -0.03317922,  0.45895149,  0.84513341,  0.99990226,  0.84936338,\n",
       "        0.41211849, -0.18416478, -0.72787787, -0.99443221, -0.84489594,\n",
       "       -0.31111935,  0.38354276,  0.90167577,  0.95449543,  0.47763714,\n",
       "       -0.28790332, -0.89212936, -0.93545914, -0.35185859,  0.48856477,\n",
       "        0.98552511,  0.73870603, -0.09869051, -0.86685116, -0.90129136,\n",
       "       -0.13235175,  0.76898941,  0.94392849,  0.18329174, -0.77433666,\n",
       "       -0.91915369, -0.05589739,  0.87914899,  0.79409625, -0.24980688,\n",
       "       -0.99177885, -0.46984205,  0.67494352,  0.91305149, -0.11901275,\n",
       "       -0.98698706, -0.40985688,  0.78809179,  0.77321143, -0.46719023,\n",
       "       -0.95375265,  0.14401502,  0.99999308,  0.11680784, -0.97635975,\n",
       "       -0.29424721,  0.93608548,  0.38965819, -0.91265753, -0.40945177,\n",
       "        0.92002604,  0.35549698, -0.95407429, -0.22314377,  0.99209325,\n",
       "        0.00663098, -0.99122511,  0.28765391,  0.89112404, -0.62112993,\n",
       "       -0.62988799,  0.90381013,  0.18198191, -0.99537615,  0.38518262,\n",
       "        0.75534929, -0.86931418, -0.15712578,  0.97558569, -0.58154595])"
      ]
     },
     "execution_count": 62,
     "metadata": {},
     "output_type": "execute_result"
    }
   ],
   "source": [
    "arr=np.random.randint(1,100,size=(10))\n",
    "print(arr)\n",
    "print(\"Max value\",np.max(arr))\n",
    "print(\"Min value\",np.min(arr))\n",
    "print(\"Mean value\",np.mean(arr))\n",
    "x=np.arange(2,10,0.1)\n",
    "y=np.arange(2,10,0.1)\n",
    "np.sin(x**2,y**2)"
   ]
  },
  {
   "cell_type": "markdown",
   "metadata": {},
   "source": [
    "# Stack/Concatenate numpy arrays:\n"
   ]
  },
  {
   "cell_type": "code",
   "execution_count": null,
   "metadata": {},
   "outputs": [],
   "source": []
  },
  {
   "cell_type": "markdown",
   "metadata": {},
   "source": [
    "If we have multiple arrays and we want to concatenate/stack them, we can use following methods for it:\n",
    "\n",
    "1. np.concatenate([x,y],axis): Simply passing the arrays as arguments in this function will return one array having elements of both the arrays. We can even use axis=0 or axis=1 to concatenate the arrays column or row wise respectively.\n",
    "\n",
    "2. np.hstack(), np.vstack([x,y]): One of my favourite methods, intuitively hstack will stack the arrays horizontally(row-wise) and vstack will stack the elements vertically(column-wise).\n",
    "\n",
    "3. np.r_[x,y] and np.c_[x,y]: np.r[] will concatenate elements of array row-wise and np.c[] will concatenate elements of array column-wise."
   ]
  },
  {
   "cell_type": "code",
   "execution_count": null,
   "metadata": {},
   "outputs": [],
   "source": []
  },
  {
   "cell_type": "code",
   "execution_count": 67,
   "metadata": {},
   "outputs": [
    {
     "name": "stdout",
     "output_type": "stream",
     "text": [
      "[2 8 4 5 3]\n",
      "[16 13 13 10 11]\n"
     ]
    },
    {
     "data": {
      "text/plain": [
       "array([ 2,  8,  4,  5,  3, 16, 13, 13, 10, 11])"
      ]
     },
     "execution_count": 67,
     "metadata": {},
     "output_type": "execute_result"
    }
   ],
   "source": [
    "arr1=np.random.randint(2,10,size=(5))\n",
    "arr2=np.random.randint(10,20,size=(5))\n",
    "print(arr1)\n",
    "print(arr2)\n",
    "np.concatenate([arr1,arr2])"
   ]
  },
  {
   "cell_type": "code",
   "execution_count": null,
   "metadata": {},
   "outputs": [],
   "source": []
  },
  {
   "cell_type": "markdown",
   "metadata": {},
   "source": [
    "# Working on dates with numpy:\n",
    "\n",
    "Numpy has extremely useful function called datetime64 which is used to show the current date and time. "
   ]
  },
  {
   "cell_type": "code",
   "execution_count": 69,
   "metadata": {},
   "outputs": [
    {
     "name": "stdout",
     "output_type": "stream",
     "text": [
      "Today's date is: 2019-10-03\n",
      "Yesterday's date : 2019-10-02\n",
      "Tomorrow's date : 2019-10-04\n"
     ]
    }
   ],
   "source": [
    "today = np.datetime64('today')\n",
    "print(\"Today's date is:\",today)\n",
    "\n",
    "yesterday = np.datetime64('today') - np.timedelta64(1)\n",
    "print(\"Yesterday's date :\",yesterday)\n",
    "\n",
    "tomorrow  = np.datetime64('today') + np.timedelta64(1)\n",
    "print(\"Tomorrow's date :\",tomorrow)"
   ]
  },
  {
   "cell_type": "code",
   "execution_count": null,
   "metadata": {},
   "outputs": [],
   "source": []
  },
  {
   "cell_type": "markdown",
   "metadata": {},
   "source": [
    "# Accessing the elements of the array: "
   ]
  },
  {
   "cell_type": "code",
   "execution_count": 71,
   "metadata": {},
   "outputs": [
    {
     "data": {
      "text/plain": [
       "4"
      ]
     },
     "execution_count": 71,
     "metadata": {},
     "output_type": "execute_result"
    }
   ],
   "source": [
    "ar=np.random.randint(1,10,size=(10))\n",
    "ar[5]"
   ]
  },
  {
   "cell_type": "markdown",
   "metadata": {},
   "source": [
    "# Slicing N-Dimensional numpy array:"
   ]
  },
  {
   "cell_type": "markdown",
   "metadata": {},
   "source": [
    "Numpy Arrays can be sliced to create subarrays. Slicing is done using colons in square brackets of the array [:] just like we do it in python."
   ]
  },
  {
   "cell_type": "code",
   "execution_count": 72,
   "metadata": {},
   "outputs": [
    {
     "data": {
      "text/plain": [
       "array([[9, 6, 6, 7, 2, 2],\n",
       "       [8, 7, 6, 7, 4, 9]])"
      ]
     },
     "execution_count": 72,
     "metadata": {},
     "output_type": "execute_result"
    }
   ],
   "source": [
    "ar=np.random.randint(1,10,size=(2,6))\n",
    "ar"
   ]
  },
  {
   "cell_type": "code",
   "execution_count": 78,
   "metadata": {},
   "outputs": [
    {
     "data": {
      "text/plain": [
       "array([[6, 6, 7]])"
      ]
     },
     "execution_count": 78,
     "metadata": {},
     "output_type": "execute_result"
    }
   ],
   "source": [
    "ar[:1,1:4]"
   ]
  },
  {
   "cell_type": "markdown",
   "metadata": {},
   "source": [
    "# One Dimensional Representation of array: flatten() and ravel() functions\n",
    "\n",
    "A multi-dimensional array can be flattened using flatten() and ravel() functions of the numpy module. Irrespective of the dimension and shape, the new array formed using the flatten() and ravel() function is a 1-Dimenrional array.\n",
    "\n",
    "Both these functions work in the same manner, the only difference is that the ravel function is actually a reference to the parent array, that is , any changes done to the array created using ravel function is reflected back in the orginal/parent array. Whereas the flatten function on the other hand creates a copy of the original array.\n",
    "\n",
    "But ravel() function is memory efficient since it does not create a copy of the original array"
   ]
  },
  {
   "cell_type": "code",
   "execution_count": 100,
   "metadata": {},
   "outputs": [
    {
     "data": {
      "text/plain": [
       "array([[4, 2, 2, 9, 7, 2],\n",
       "       [9, 8, 9, 3, 5, 6]])"
      ]
     },
     "execution_count": 100,
     "metadata": {},
     "output_type": "execute_result"
    }
   ],
   "source": [
    "ar=np.random.randint(1,10,size=(2,6))\n",
    "ar"
   ]
  },
  {
   "cell_type": "code",
   "execution_count": 101,
   "metadata": {},
   "outputs": [],
   "source": [
    "ar=ar.flatten()"
   ]
  },
  {
   "cell_type": "code",
   "execution_count": 102,
   "metadata": {},
   "outputs": [
    {
     "data": {
      "text/plain": [
       "array([4, 2, 2, 9, 7, 2, 9, 8, 9, 3, 5, 6])"
      ]
     },
     "execution_count": 102,
     "metadata": {},
     "output_type": "execute_result"
    }
   ],
   "source": [
    "ar"
   ]
  },
  {
   "cell_type": "code",
   "execution_count": 98,
   "metadata": {},
   "outputs": [],
   "source": [
    "ar=ar.ravel()"
   ]
  },
  {
   "cell_type": "code",
   "execution_count": 99,
   "metadata": {},
   "outputs": [
    {
     "data": {
      "text/plain": [
       "array([9, 8, 6, 8, 9, 6, 1, 8, 5, 4, 7, 4])"
      ]
     },
     "execution_count": 99,
     "metadata": {},
     "output_type": "execute_result"
    }
   ],
   "source": [
    "ar"
   ]
  },
  {
   "cell_type": "markdown",
   "metadata": {},
   "source": [
    "# Repeating Sequence using tile() and repeat():"
   ]
  },
  {
   "cell_type": "code",
   "execution_count": 106,
   "metadata": {},
   "outputs": [
    {
     "data": {
      "text/plain": [
       "array([ 1,  1,  1, 34, 34, 34,  3,  3,  3, 65, 65, 65, 77, 77, 77])"
      ]
     },
     "execution_count": 106,
     "metadata": {},
     "output_type": "execute_result"
    }
   ],
   "source": [
    "arr=np.array([1,34,3,65,77])\n",
    "#np.tile(arr,2) # arr 2 times\n",
    "np.repeat(arr,3) # each element twice"
   ]
  },
  {
   "cell_type": "code",
   "execution_count": null,
   "metadata": {},
   "outputs": [],
   "source": []
  },
  {
   "cell_type": "markdown",
   "metadata": {},
   "source": [
    "# Let me show you vectorization before winding up:"
   ]
  },
  {
   "cell_type": "code",
   "execution_count": 109,
   "metadata": {},
   "outputs": [
    {
     "data": {
      "text/plain": [
       "array([[31, 70, 97, 60],\n",
       "       [60, 65, 49,  9]])"
      ]
     },
     "execution_count": 109,
     "metadata": {},
     "output_type": "execute_result"
    }
   ],
   "source": [
    "arr=np.random.randint(1,100,size=(2,4))\n",
    "arr"
   ]
  },
  {
   "cell_type": "code",
   "execution_count": 108,
   "metadata": {},
   "outputs": [
    {
     "data": {
      "text/plain": [
       "[2, 3, 4, 65, 565, 676, 87878, 2, 3, 4, 65, 565, 676, 87878]"
      ]
     },
     "execution_count": 108,
     "metadata": {},
     "output_type": "execute_result"
    }
   ],
   "source": [
    "li=[2,3,4,65,565,676,87878]\n",
    "li*2"
   ]
  },
  {
   "cell_type": "code",
   "execution_count": 113,
   "metadata": {},
   "outputs": [
    {
     "data": {
      "text/plain": [
       "array([[15, 35, 48, 30],\n",
       "       [30, 32, 24,  4]], dtype=int32)"
      ]
     },
     "execution_count": 113,
     "metadata": {},
     "output_type": "execute_result"
    }
   ],
   "source": [
    "arr//2"
   ]
  },
  {
   "cell_type": "code",
   "execution_count": null,
   "metadata": {},
   "outputs": [],
   "source": []
  }
 ],
 "metadata": {
  "kernelspec": {
   "display_name": "Python 3",
   "language": "python",
   "name": "python3"
  },
  "language_info": {
   "codemirror_mode": {
    "name": "ipython",
    "version": 3
   },
   "file_extension": ".py",
   "mimetype": "text/x-python",
   "name": "python",
   "nbconvert_exporter": "python",
   "pygments_lexer": "ipython3",
   "version": "3.6.6"
  }
 },
 "nbformat": 4,
 "nbformat_minor": 2
}
